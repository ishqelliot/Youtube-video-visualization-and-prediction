{
 "cells": [
  {
   "cell_type": "code",
   "execution_count": 1,
   "metadata": {
    "collapsed": true
   },
   "outputs": [],
   "source": [
    "import pandas as pd\n",
    "import numpy as np\n",
    "%matplotlib inline\n",
    "import matplotlib.pyplot as plt\n",
    "import seaborn as sns; sns.set()\n",
    "import json"
   ]
  },
  {
   "cell_type": "code",
   "execution_count": 2,
   "metadata": {},
   "outputs": [
    {
     "data": {
      "text/plain": [
       "{u'1': u'Film & Animation',\n",
       " u'10': u'Music',\n",
       " u'15': u'Pets & Animals',\n",
       " u'17': u'Sports',\n",
       " u'18': u'Short Movies',\n",
       " u'19': u'Travel & Events',\n",
       " u'2': u'Autos & Vehicles',\n",
       " u'20': u'Gaming',\n",
       " u'21': u'Videoblogging',\n",
       " u'22': u'People & Blogs',\n",
       " u'23': u'Comedy',\n",
       " u'24': u'Entertainment',\n",
       " u'25': u'News & Politics',\n",
       " u'26': u'Howto & Style',\n",
       " u'27': u'Education',\n",
       " u'28': u'Science & Technology',\n",
       " u'29': u'Nonprofits & Activism',\n",
       " u'30': u'Movies',\n",
       " u'31': u'Anime/Animation',\n",
       " u'32': u'Action/Adventure',\n",
       " u'33': u'Classics',\n",
       " u'34': u'Comedy',\n",
       " u'35': u'Documentary',\n",
       " u'36': u'Drama',\n",
       " u'37': u'Family',\n",
       " u'38': u'Foreign',\n",
       " u'39': u'Horror',\n",
       " u'40': u'Sci-Fi/Fantasy',\n",
       " u'41': u'Thriller',\n",
       " u'42': u'Shorts',\n",
       " u'43': u'Shows',\n",
       " u'44': u'Trailers'}"
      ]
     },
     "execution_count": 2,
     "metadata": {},
     "output_type": "execute_result"
    }
   ],
   "source": [
    "dataset= pd.read_csv('USvideos.csv')\n",
    "dataset.columns = dataset.columns.map(str.strip)\n",
    "#dataset['comments_disabled']=dataset['comments_disabled'].str.strip()\n",
    "#dataset['comment_count']=dataset['comment_count'].str.strip()\n",
    "#dataset['views']=dataset['views'].str.strip()\n",
    "#dataset['category_id']=dataset['Category_id'].str.strip()\n",
    "#dataset['likes']=dataset['likes'].str.strip()\n",
    "id_to_category = {}\n",
    "\n",
    "with open('US_category_id.json', 'r') as f:\n",
    "    data = json.load(f)\n",
    "    for category in data['items']:\n",
    "        id_to_category[category['id']] = category['snippet']['title']\n",
    "\n",
    "id_to_category\n"
   ]
  },
  {
   "cell_type": "code",
   "execution_count": 3,
   "metadata": {
    "collapsed": true
   },
   "outputs": [],
   "source": [
    "type_str_list = ['category_id']\n",
    "for column in type_str_list:\n",
    "    dataset[column] = dataset[column].astype(str)"
   ]
  },
  {
   "cell_type": "code",
   "execution_count": 6,
   "metadata": {},
   "outputs": [
    {
     "data": {
      "text/html": [
       "<div>\n",
       "<style scoped>\n",
       "    .dataframe tbody tr th:only-of-type {\n",
       "        vertical-align: middle;\n",
       "    }\n",
       "\n",
       "    .dataframe tbody tr th {\n",
       "        vertical-align: top;\n",
       "    }\n",
       "\n",
       "    .dataframe thead th {\n",
       "        text-align: right;\n",
       "    }\n",
       "</style>\n",
       "<table border=\"1\" class=\"dataframe\">\n",
       "  <thead>\n",
       "    <tr style=\"text-align: right;\">\n",
       "      <th></th>\n",
       "      <th>video_id</th>\n",
       "      <th>trending_date</th>\n",
       "      <th>title</th>\n",
       "      <th>channel_title</th>\n",
       "      <th>category</th>\n",
       "      <th>category_id</th>\n",
       "      <th>publish_time</th>\n",
       "      <th>tags</th>\n",
       "      <th>views</th>\n",
       "      <th>likes</th>\n",
       "      <th>dislikes</th>\n",
       "      <th>comment_count</th>\n",
       "      <th>thumbnail_link</th>\n",
       "      <th>comments_disabled</th>\n",
       "      <th>ratings_disabled</th>\n",
       "      <th>video_error_or_removed</th>\n",
       "      <th>description</th>\n",
       "    </tr>\n",
       "  </thead>\n",
       "  <tbody>\n",
       "    <tr>\n",
       "      <th>0</th>\n",
       "      <td>2kyS6SvSYSE</td>\n",
       "      <td>17.14.11</td>\n",
       "      <td>WE WANT TO TALK ABOUT OUR MARRIAGE</td>\n",
       "      <td>CaseyNeistat</td>\n",
       "      <td>People &amp; Blogs</td>\n",
       "      <td>22</td>\n",
       "      <td>2017-11-13T17:13:01.000Z</td>\n",
       "      <td>SHANtell martin</td>\n",
       "      <td>748374</td>\n",
       "      <td>57527</td>\n",
       "      <td>2966</td>\n",
       "      <td>15954</td>\n",
       "      <td>https://i.ytimg.com/vi/2kyS6SvSYSE/default.jpg</td>\n",
       "      <td>False</td>\n",
       "      <td>False</td>\n",
       "      <td>False</td>\n",
       "      <td>SHANTELL'S CHANNEL - https://www.youtube.com/s...</td>\n",
       "    </tr>\n",
       "    <tr>\n",
       "      <th>1</th>\n",
       "      <td>1ZAPwfrtAFY</td>\n",
       "      <td>17.14.11</td>\n",
       "      <td>The Trump Presidency: Last Week Tonight with J...</td>\n",
       "      <td>LastWeekTonight</td>\n",
       "      <td>Entertainment</td>\n",
       "      <td>24</td>\n",
       "      <td>2017-11-13T07:30:00.000Z</td>\n",
       "      <td>last week tonight trump presidency|\"last week ...</td>\n",
       "      <td>2418783</td>\n",
       "      <td>97185</td>\n",
       "      <td>6146</td>\n",
       "      <td>12703</td>\n",
       "      <td>https://i.ytimg.com/vi/1ZAPwfrtAFY/default.jpg</td>\n",
       "      <td>False</td>\n",
       "      <td>False</td>\n",
       "      <td>False</td>\n",
       "      <td>One year after the presidential election, John...</td>\n",
       "    </tr>\n",
       "    <tr>\n",
       "      <th>2</th>\n",
       "      <td>5qpjK5DgCt4</td>\n",
       "      <td>17.14.11</td>\n",
       "      <td>Racist Superman | Rudy Mancuso, King Bach &amp; Le...</td>\n",
       "      <td>Rudy Mancuso</td>\n",
       "      <td>Comedy</td>\n",
       "      <td>23</td>\n",
       "      <td>2017-11-12T19:05:24.000Z</td>\n",
       "      <td>racist superman|\"rudy\"|\"mancuso\"|\"king\"|\"bach\"...</td>\n",
       "      <td>3191434</td>\n",
       "      <td>146033</td>\n",
       "      <td>5339</td>\n",
       "      <td>8181</td>\n",
       "      <td>https://i.ytimg.com/vi/5qpjK5DgCt4/default.jpg</td>\n",
       "      <td>False</td>\n",
       "      <td>False</td>\n",
       "      <td>False</td>\n",
       "      <td>WATCH MY PREVIOUS VIDEO ▶ \\n\\nSUBSCRIBE ► http...</td>\n",
       "    </tr>\n",
       "    <tr>\n",
       "      <th>3</th>\n",
       "      <td>puqaWrEC7tY</td>\n",
       "      <td>17.14.11</td>\n",
       "      <td>Nickelback Lyrics: Real or Fake?</td>\n",
       "      <td>Good Mythical Morning</td>\n",
       "      <td>Entertainment</td>\n",
       "      <td>24</td>\n",
       "      <td>2017-11-13T11:00:04.000Z</td>\n",
       "      <td>rhett and link|\"gmm\"|\"good mythical morning\"|\"...</td>\n",
       "      <td>343168</td>\n",
       "      <td>10172</td>\n",
       "      <td>666</td>\n",
       "      <td>2146</td>\n",
       "      <td>https://i.ytimg.com/vi/puqaWrEC7tY/default.jpg</td>\n",
       "      <td>False</td>\n",
       "      <td>False</td>\n",
       "      <td>False</td>\n",
       "      <td>Today we find out if Link is a Nickelback amat...</td>\n",
       "    </tr>\n",
       "    <tr>\n",
       "      <th>4</th>\n",
       "      <td>d380meD0W0M</td>\n",
       "      <td>17.14.11</td>\n",
       "      <td>I Dare You: GOING BALD!?</td>\n",
       "      <td>nigahiga</td>\n",
       "      <td>Entertainment</td>\n",
       "      <td>24</td>\n",
       "      <td>2017-11-12T18:01:41.000Z</td>\n",
       "      <td>ryan|\"higa\"|\"higatv\"|\"nigahiga\"|\"i dare you\"|\"...</td>\n",
       "      <td>2095731</td>\n",
       "      <td>132235</td>\n",
       "      <td>1989</td>\n",
       "      <td>17518</td>\n",
       "      <td>https://i.ytimg.com/vi/d380meD0W0M/default.jpg</td>\n",
       "      <td>False</td>\n",
       "      <td>False</td>\n",
       "      <td>False</td>\n",
       "      <td>I know it's been a while since we did this sho...</td>\n",
       "    </tr>\n",
       "  </tbody>\n",
       "</table>\n",
       "</div>"
      ],
      "text/plain": [
       "      video_id trending_date  \\\n",
       "0  2kyS6SvSYSE      17.14.11   \n",
       "1  1ZAPwfrtAFY      17.14.11   \n",
       "2  5qpjK5DgCt4      17.14.11   \n",
       "3  puqaWrEC7tY      17.14.11   \n",
       "4  d380meD0W0M      17.14.11   \n",
       "\n",
       "                                               title          channel_title  \\\n",
       "0                 WE WANT TO TALK ABOUT OUR MARRIAGE           CaseyNeistat   \n",
       "1  The Trump Presidency: Last Week Tonight with J...        LastWeekTonight   \n",
       "2  Racist Superman | Rudy Mancuso, King Bach & Le...           Rudy Mancuso   \n",
       "3                   Nickelback Lyrics: Real or Fake?  Good Mythical Morning   \n",
       "4                           I Dare You: GOING BALD!?               nigahiga   \n",
       "\n",
       "         category category_id              publish_time  \\\n",
       "0  People & Blogs          22  2017-11-13T17:13:01.000Z   \n",
       "1   Entertainment          24  2017-11-13T07:30:00.000Z   \n",
       "2          Comedy          23  2017-11-12T19:05:24.000Z   \n",
       "3   Entertainment          24  2017-11-13T11:00:04.000Z   \n",
       "4   Entertainment          24  2017-11-12T18:01:41.000Z   \n",
       "\n",
       "                                                tags    views   likes  \\\n",
       "0                                    SHANtell martin   748374   57527   \n",
       "1  last week tonight trump presidency|\"last week ...  2418783   97185   \n",
       "2  racist superman|\"rudy\"|\"mancuso\"|\"king\"|\"bach\"...  3191434  146033   \n",
       "3  rhett and link|\"gmm\"|\"good mythical morning\"|\"...   343168   10172   \n",
       "4  ryan|\"higa\"|\"higatv\"|\"nigahiga\"|\"i dare you\"|\"...  2095731  132235   \n",
       "\n",
       "   dislikes  comment_count                                  thumbnail_link  \\\n",
       "0      2966          15954  https://i.ytimg.com/vi/2kyS6SvSYSE/default.jpg   \n",
       "1      6146          12703  https://i.ytimg.com/vi/1ZAPwfrtAFY/default.jpg   \n",
       "2      5339           8181  https://i.ytimg.com/vi/5qpjK5DgCt4/default.jpg   \n",
       "3       666           2146  https://i.ytimg.com/vi/puqaWrEC7tY/default.jpg   \n",
       "4      1989          17518  https://i.ytimg.com/vi/d380meD0W0M/default.jpg   \n",
       "\n",
       "   comments_disabled  ratings_disabled  video_error_or_removed  \\\n",
       "0              False             False                   False   \n",
       "1              False             False                   False   \n",
       "2              False             False                   False   \n",
       "3              False             False                   False   \n",
       "4              False             False                   False   \n",
       "\n",
       "                                         description  \n",
       "0  SHANTELL'S CHANNEL - https://www.youtube.com/s...  \n",
       "1  One year after the presidential election, John...  \n",
       "2  WATCH MY PREVIOUS VIDEO ▶ \\n\\nSUBSCRIBE ► http...  \n",
       "3  Today we find out if Link is a Nickelback amat...  \n",
       "4  I know it's been a while since we did this sho...  "
      ]
     },
     "execution_count": 6,
     "metadata": {},
     "output_type": "execute_result"
    }
   ],
   "source": [
    "\n",
    "#dataset = dataset.drop('category', axis=1)\n",
    "dataset.insert(4, 'category', dataset['category_id'].map(id_to_category))\n",
    "dataset.head()"
   ]
  },
  {
   "cell_type": "code",
   "execution_count": 7,
   "metadata": {},
   "outputs": [
    {
     "name": "stdout",
     "output_type": "stream",
     "text": [
      "   comments_disabled  comment_count    views        category   likes\n",
      "0              False          15954   748374  People & Blogs   57527\n",
      "1              False          12703  2418783   Entertainment   97185\n",
      "2              False           8181  3191434          Comedy  146033\n",
      "3              False           2146   343168   Entertainment   10172\n",
      "4              False          17518  2095731   Entertainment  132235\n",
      "6073.841688654354\n",
      "1361580\n",
      "0\n"
     ]
    }
   ],
   "source": [
    "df = dataset[['comments_disabled', 'comment_count', 'views','category','likes']].copy()\n",
    "print df.head()\n",
    "print df[\"comment_count\"].mean()\n",
    "print df[\"comment_count\"].max()\n",
    "print df[\"comment_count\"].min()\n"
   ]
  },
  {
   "cell_type": "code",
   "execution_count": 8,
   "metadata": {
    "collapsed": true
   },
   "outputs": [],
   "source": [
    "for index,row in df.iterrows():\n",
    "    #print index\n",
    "    if(0<=df.loc[index,'comment_count']<50000):\n",
    "        df.loc[index,'comment_count']=1\n",
    "    elif(50000<=df.loc[index,'comment_count']<100000):\n",
    "        df.loc[index,'comment_count']=2\n",
    "    elif(100000<=df.loc[index,'comment_count']<150000):\n",
    "        df.loc[index,'comment_count']=3\n",
    "    elif(150000<=df.loc[index,'comment_count']<200000):\n",
    "        df.loc[index,'comment_count']=4\n",
    "    elif(200000<=df.loc[index,'likes']<1500000):\n",
    "        df.loc[index,'comment_count']=5\n",
    "        "
   ]
  },
  {
   "cell_type": "code",
   "execution_count": 9,
   "metadata": {},
   "outputs": [
    {
     "name": "stdout",
     "output_type": "stream",
     "text": [
      "1403115.0189667698\n",
      "149376127\n",
      "549\n"
     ]
    }
   ],
   "source": [
    "print df[\"views\"].mean()\n",
    "print df[\"views\"].max()\n",
    "print df[\"views\"].min()"
   ]
  },
  {
   "cell_type": "code",
   "execution_count": 10,
   "metadata": {
    "collapsed": true
   },
   "outputs": [],
   "source": [
    "for index,row in df.iterrows():\n",
    "    #print index\n",
    "    if(0<=df.loc[index,'views']<5000000):\n",
    "        df.loc[index,'views']=1\n",
    "    elif(5000000<=df.loc[index,'views']<15000000):\n",
    "        df.loc[index,'views']=2\n",
    "    elif(15000000<=df.loc[index,'views']<25000000):\n",
    "        df.loc[index,'views']=3\n",
    "    elif(25000000<=df.loc[index,'views']<35000000):\n",
    "        df.loc[index,'views']=4\n",
    "    elif(35000000<=df.loc[index,'views']<45000000):\n",
    "        df.loc[index,'views']=5\n",
    "    elif(45000000<=df.loc[index,'views']<150000000):\n",
    "        df.loc[index,'views']=6\n"
   ]
  },
  {
   "cell_type": "code",
   "execution_count": 11,
   "metadata": {
    "collapsed": true
   },
   "outputs": [],
   "source": [
    "for index,row in df.iterrows():\n",
    "    #print index\n",
    "    if(0<=df.loc[index,'likes']<250000):\n",
    "        df.loc[index,'likes']=1\n",
    "    elif(250000<=df.loc[index,'likes']<500000):\n",
    "        df.loc[index,'likes']=2\n",
    "    elif(500000<=df.loc[index,'likes']<1000000):\n",
    "        df.loc[index,'likes']=3\n",
    "    elif(1000000<=df.loc[index,'likes']<1500000):\n",
    "        df.loc[index,'likes']=4\n",
    "    elif(1500000<=df.loc[index,'likes']<2500000):\n",
    "        df.loc[index,'likes']=5\n",
    "    elif(2500000<=df.loc[index,'likes']<3000000):\n",
    "        df.loc[index,'likes']=6\n",
    "    elif(3000000<=df.loc[index,'likes']<3500000):\n",
    "        df.loc[index,'likes']=7"
   ]
  },
  {
   "cell_type": "code",
   "execution_count": 12,
   "metadata": {
    "scrolled": true
   },
   "outputs": [
    {
     "name": "stdout",
     "output_type": "stream",
     "text": [
      "       comments_disabled  comment_count  views              category  likes\n",
      "0                  False              1      1        People & Blogs      1\n",
      "1                  False              1      1         Entertainment      1\n",
      "2                  False              1      1                Comedy      1\n",
      "3                  False              1      1         Entertainment      1\n",
      "4                  False              1      1         Entertainment      1\n",
      "5                  False              1      1  Science & Technology      1\n",
      "6                  False              1      1         Entertainment      1\n",
      "7                  False              1      1  Science & Technology      1\n",
      "8                  False              1      1      Film & Animation      1\n",
      "9                  False              1      1       News & Politics      1\n",
      "10                 False              1      1                Sports      1\n",
      "11                 False              1      1         Entertainment      1\n",
      "12                 False              1      1                 Music      1\n",
      "13                 False              1      1       News & Politics      1\n",
      "14                 False              1      1        Pets & Animals      1\n",
      "15                 False              1      1  Science & Technology      1\n",
      "16                 False              1      1                Comedy      1\n",
      "17                 False              1      1             Education      1\n",
      "18                 False              1      1  Science & Technology      1\n",
      "19                 False              1      1             Education      1\n",
      "20                 False              1      1             Education      1\n",
      "21                 False              1      1  Science & Technology      1\n",
      "22                 False              1      1             Education      1\n",
      "23                 False              1      1         Howto & Style      1\n",
      "24                 False              1      1                Comedy      1\n",
      "25                 False              1      1         Entertainment      1\n",
      "26                 False              1      1  Science & Technology      1\n",
      "27                 False              1      1         Howto & Style      1\n",
      "28                 False              1      1       News & Politics      1\n",
      "29                 False              1      1      Film & Animation      1\n",
      "...                  ...            ...    ...                   ...    ...\n",
      "26121              False              1      1         Entertainment      1\n",
      "26122              False              1      1      Film & Animation      1\n",
      "26123              False              1      1         Howto & Style      1\n",
      "26124              False              1      1         Entertainment      1\n",
      "26125              False              1      1        People & Blogs      1\n",
      "26126              False              1      1         Entertainment      2\n",
      "26127              False              1      1      Film & Animation      1\n",
      "26128              False              1      2                Sports      2\n",
      "26129              False              1      1         Entertainment      1\n",
      "26130              False              1      2                 Music      1\n",
      "26131              False              4      6                 Music      5\n",
      "26132              False              1      2                 Music      2\n",
      "26133              False              1      1        People & Blogs      1\n",
      "26134              False              1      1                Comedy      1\n",
      "26135              False              1      1         Entertainment      1\n",
      "26136              False              1      1       Travel & Events      1\n",
      "26137              False              1      1                Comedy      1\n",
      "26138              False              1      1  Science & Technology      1\n",
      "26139              False              1      1         Entertainment      1\n",
      "26140              False              1      1                Comedy      1\n",
      "26141              False              1      1  Science & Technology      1\n",
      "26142              False              1      1         Entertainment      1\n",
      "26143              False              1      1         Howto & Style      1\n",
      "26144              False              1      1         Entertainment      1\n",
      "26145              False              5      4                 Music      4\n",
      "26146              False              1      1         Entertainment      1\n",
      "26147              False              1      1      Film & Animation      1\n",
      "26148              False              1      1  Science & Technology      1\n",
      "26149              False              1      1         Entertainment      1\n",
      "26150              False              1      1                 Music      1\n",
      "\n",
      "[26151 rows x 5 columns]\n"
     ]
    }
   ],
   "source": [
    "print df"
   ]
  },
  {
   "cell_type": "markdown",
   "metadata": {},
   "source": [
    "Following is the data preprocessing need to be done in order to continue with our model"
   ]
  },
  {
   "cell_type": "code",
   "execution_count": 13,
   "metadata": {},
   "outputs": [
    {
     "name": "stdout",
     "output_type": "stream",
     "text": [
      "       comments_disabled  comment_count  views  category  likes\n",
      "0                      0              0      0        10      0\n",
      "1                      0              0      0         3      0\n",
      "2                      0              0      0         1      0\n",
      "3                      0              0      0         3      0\n",
      "4                      0              0      0         3      0\n",
      "5                      0              0      0        12      0\n",
      "6                      0              0      0         3      0\n",
      "7                      0              0      0        12      0\n",
      "8                      0              0      0         4      0\n",
      "9                      0              0      0         8      0\n",
      "10                     0              0      0        14      0\n",
      "11                     0              0      0         3      0\n",
      "12                     0              0      0         7      0\n",
      "13                     0              0      0         8      0\n",
      "14                     0              0      0        11      0\n",
      "15                     0              0      0        12      0\n",
      "16                     0              0      0         1      0\n",
      "17                     0              0      0         2      0\n",
      "18                     0              0      0        12      0\n",
      "19                     0              0      0         2      0\n",
      "20                     0              0      0         2      0\n",
      "21                     0              0      0        12      0\n",
      "22                     0              0      0         2      0\n",
      "23                     0              0      0         6      0\n",
      "24                     0              0      0         1      0\n",
      "25                     0              0      0         3      0\n",
      "26                     0              0      0        12      0\n",
      "27                     0              0      0         6      0\n",
      "28                     0              0      0         8      0\n",
      "29                     0              0      0         4      0\n",
      "...                  ...            ...    ...       ...    ...\n",
      "26121                  0              0      0         3      0\n",
      "26122                  0              0      0         4      0\n",
      "26123                  0              0      0         6      0\n",
      "26124                  0              0      0         3      0\n",
      "26125                  0              0      0        10      0\n",
      "26126                  0              0      0         3      1\n",
      "26127                  0              0      0         4      0\n",
      "26128                  0              0      1        14      1\n",
      "26129                  0              0      0         3      0\n",
      "26130                  0              0      1         7      0\n",
      "26131                  0              3      5         7      4\n",
      "26132                  0              0      1         7      1\n",
      "26133                  0              0      0        10      0\n",
      "26134                  0              0      0         1      0\n",
      "26135                  0              0      0         3      0\n",
      "26136                  0              0      0        15      0\n",
      "26137                  0              0      0         1      0\n",
      "26138                  0              0      0        12      0\n",
      "26139                  0              0      0         3      0\n",
      "26140                  0              0      0         1      0\n",
      "26141                  0              0      0        12      0\n",
      "26142                  0              0      0         3      0\n",
      "26143                  0              0      0         6      0\n",
      "26144                  0              0      0         3      0\n",
      "26145                  0              4      3         7      3\n",
      "26146                  0              0      0         3      0\n",
      "26147                  0              0      0         4      0\n",
      "26148                  0              0      0        12      0\n",
      "26149                  0              0      0         3      0\n",
      "26150                  0              0      0         7      0\n",
      "\n",
      "[26151 rows x 5 columns]\n",
      "\n",
      "After one hot encodin\n",
      "\n",
      "[[1. 0. 1. ... 0. 0. 0.]\n",
      " [1. 0. 1. ... 0. 0. 0.]\n",
      " [1. 0. 1. ... 0. 0. 0.]\n",
      " ...\n",
      " [1. 0. 1. ... 0. 0. 0.]\n",
      " [1. 0. 1. ... 0. 0. 0.]\n",
      " [1. 0. 1. ... 0. 0. 0.]]\n"
     ]
    }
   ],
   "source": [
    "#One hot encoding is a process by which categorical variables are converted \n",
    "#into a form that could be provided to ML algorithms to do a better job in prediction.\n",
    "\n",
    "from sklearn import preprocessing #LabelEncoder, OneHotEncoder\n",
    "label_X=preprocessing.LabelEncoder()\n",
    "data=df.apply(label_X.fit_transform)\n",
    "print(data)\n",
    "\n",
    "encoded = preprocessing.OneHotEncoder()\n",
    "print('\\nAfter one hot encodin\\n')\n",
    "var = encoded.fit_transform(data).toarray()\n",
    "print(encoded.fit_transform(data).toarray())\n",
    "df.head(15)\n",
    "y=data.iloc[:,4].values\n",
    "X=data.drop('likes', axis=1)\n",
    "X=encoded.fit_transform(X).toarray()\n",
    "#print(X)\n",
    "#print df[\"category_id\"].max()"
   ]
  },
  {
   "cell_type": "markdown",
   "metadata": {},
   "source": [
    "This notion—that multiple overfitting estimators can be combined to reduce the effect of this overfitting—is what underlies an ensemble method called bagging. Bagging makes use of an ensemble (a grab bag, perhaps) of parallel estimators, each of which over-fits the data, and averages the results to find a better classification. An ensemble of randomized decision trees is known as a random forest."
   ]
  },
  {
   "cell_type": "code",
   "execution_count": 17,
   "metadata": {
    "collapsed": true
   },
   "outputs": [],
   "source": [
    "from sklearn.tree import DecisionTreeClassifier\n",
    "from sklearn.ensemble import BaggingClassifier\n",
    "\n",
    "tree = DecisionTreeClassifier()\n",
    "bag = BaggingClassifier(tree, n_estimators=3, max_samples=0.8,random_state=1)\n",
    "\n",
    "bag.fit(X, y)\n",
    "bag_var = bag.score(X,y)\n"
   ]
  },
  {
   "cell_type": "code",
   "execution_count": 18,
   "metadata": {},
   "outputs": [
    {
     "name": "stdout",
     "output_type": "stream",
     "text": [
      "Accuracy: 0.980\n"
     ]
    }
   ],
   "source": [
    "print(\"Accuracy: {:.3f}\".format(bag_var))"
   ]
  },
  {
   "cell_type": "markdown",
   "metadata": {},
   "source": [
    "In Scikit-Learn, such an optimized ensemble of randomized decision trees is implemented in the RandomForestClassifier estimator, which takes care of all the randomization automatically. All you need to do is select a number of estimators, and it will very quickly (in parallel, if desired) fit the ensemble of trees:"
   ]
  },
  {
   "cell_type": "code",
   "execution_count": 19,
   "metadata": {},
   "outputs": [
    {
     "name": "stdout",
     "output_type": "stream",
     "text": [
      "Accuracy: 0.965\n"
     ]
    }
   ],
   "source": [
    "from sklearn.ensemble import RandomForestClassifier\n",
    "clf = RandomForestClassifier(max_depth=2, random_state=0, n_estimators=3)\n",
    "clf.fit(X,y)\n",
    "print(\"Accuracy: {:.3f}\".format(clf.score(X,y)))"
   ]
  },
  {
   "cell_type": "markdown",
   "metadata": {},
   "source": [
    "Finally predicting for given conditions"
   ]
  },
  {
   "cell_type": "code",
   "execution_count": 22,
   "metadata": {},
   "outputs": [
    {
     "name": "stdout",
     "output_type": "stream",
     "text": [
      "likes:0 to 250000\n"
     ]
    }
   ],
   "source": [
    "pred=clf.predict([[5,0,6,0,1,0,3,1,1,0, 2,0,1,0,1,5,0,1,3,0, 0,0,1,0,1,0,6,1,1,0, 0,0,3,2,1,0,0,1,1,0, 0,2,1,0,1,0,4,1,6,5, 3,1,1,0,1,5,0,2,1,3, 0,3,1,12,1,0,0,0,1,1,10, 5]])\n",
    "#print pred\n",
    "#pred = clf.predict([[0,2,3,15]])\n",
    "if(pred==0):\n",
    "    print ('likes:0 to 250000')\n",
    "elif(pred==1):\n",
    "    print ('likes:250000 to 500000')\n",
    "elif(pred==2):\n",
    "    print ('likes:500000 to 1000000')\n",
    "elif(pred==3):\n",
    "    print ('likes:1000000 to 1500000')\n",
    "elif(pred==4):\n",
    "    print ('likes:1500000 to 2000000')\n",
    "elif(pred==5):\n",
    "    print ('likes:2000000 to 2500000')\n",
    "elif(pred==6):\n",
    "    print ('likes:3000000 to 3500000')"
   ]
  }
 ],
 "metadata": {
  "kernelspec": {
   "display_name": "Python 2",
   "language": "python",
   "name": "python2"
  },
  "language_info": {
   "codemirror_mode": {
    "name": "ipython",
    "version": 2
   },
   "file_extension": ".py",
   "mimetype": "text/x-python",
   "name": "python",
   "nbconvert_exporter": "python",
   "pygments_lexer": "ipython2",
   "version": "2.7.14"
  }
 },
 "nbformat": 4,
 "nbformat_minor": 2
}
